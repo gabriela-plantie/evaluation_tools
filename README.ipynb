{
 "cells": [
  {
   "cell_type": "markdown",
   "metadata": {},
   "source": [
    "## What is does"
   ]
  },
  {
   "cell_type": "markdown",
   "metadata": {},
   "source": [
    "Typical evaluation tools for binary models and data transformation for event series."
   ]
  },
  {
   "cell_type": "markdown",
   "metadata": {},
   "source": [
    "## Install package"
   ]
  },
  {
   "cell_type": "code",
   "execution_count": 2,
   "metadata": {},
   "outputs": [],
   "source": [
    "%%capture\n",
    "!pip3 install git+git://github.com/gabriela-plantie/evaluation_tools\n",
    "    "
   ]
  },
  {
   "cell_type": "code",
   "execution_count": 3,
   "metadata": {},
   "outputs": [],
   "source": [
    "from evaluation_tools import prediccion as pre"
   ]
  },
  {
   "cell_type": "markdown",
   "metadata": {},
   "source": [
    "## Required packages"
   ]
  },
  {
   "cell_type": "raw",
   "metadata": {},
   "source": [
    "import scipy as sc\n",
    "import statsmodels.formula.api as smf\n",
    "import statsmodels.api as sm\n",
    "from matplotlib import pyplot as plt\n",
    "from scipy import stats\n",
    "import matplotlib.pyplot as plt\n",
    "from sklearn.metrics import roc_auc_score\n",
    "from scipy.stats import ks_2samp\n",
    "import itertools"
   ]
  },
  {
   "cell_type": "markdown",
   "metadata": {},
   "source": [
    "## Create example data prediction"
   ]
  },
  {
   "cell_type": "code",
   "execution_count": 4,
   "metadata": {},
   "outputs": [],
   "source": [
    "import pandas as pd\n",
    "import numpy as np\n",
    "import scipy as sc\n",
    "from scipy.stats import ks_2samp"
   ]
  },
  {
   "cell_type": "code",
   "execution_count": 5,
   "metadata": {},
   "outputs": [],
   "source": [
    "size=10000\n",
    "ds= pd.date_range('2019-01-01', periods=30, freq='M')\n",
    "d = np.random.choice(ds, size, replace=True)\n",
    "x1=np.random.uniform(0,1,size)\n",
    "x2=np.random.uniform(0,1,size)\n",
    "x3=np.random.uniform(0,1,size)\n",
    "x4=np.random.uniform(0,1,size)/5\n",
    "\n",
    "z = 1 + 2*x1 -4* x2 + 2*x2*x3 + x4\n",
    "pr = 1/(1+np.exp(-z))\n",
    "#l=list(pr[(pr>0.94) & ((pr<0.95))])\n",
    "#l.sort()\n",
    "#l\n",
    "\n",
    "#pr[pr>0.95]=1\n",
    "ide = np.arange(0, size,1)\n",
    "y=sc.stats.binom.rvs(1, pr, size=size)\n",
    "df = pd.DataFrame(data={'ide':ide, 'y':y, 'x1':x1, 'x2':x2, 'x3':x3, 'x4':x4, 'pr':pr, 'date': d})\n",
    "\n",
    "#set(df.date)"
   ]
  },
  {
   "cell_type": "code",
   "execution_count": 7,
   "metadata": {},
   "outputs": [
    {
     "data": {
      "text/plain": [
       "0.05985366607848398"
      ]
     },
     "execution_count": 7,
     "metadata": {},
     "output_type": "execute_result"
    }
   ],
   "source": [
    "min(df.pr)"
   ]
  },
  {
   "cell_type": "markdown",
   "metadata": {},
   "source": [
    "## Apply tools"
   ]
  },
  {
   "cell_type": "code",
   "execution_count": 6,
   "metadata": {
    "scrolled": true
   },
   "outputs": [
    {
     "name": "stdout",
     "output_type": "stream",
     "text": [
      "media: 0.6176\n",
      "events: 6176\n"
     ]
    },
    {
     "data": {
      "text/html": [
       "<div>\n",
       "<style scoped>\n",
       "    .dataframe tbody tr th:only-of-type {\n",
       "        vertical-align: middle;\n",
       "    }\n",
       "\n",
       "    .dataframe tbody tr th {\n",
       "        vertical-align: top;\n",
       "    }\n",
       "\n",
       "    .dataframe thead th {\n",
       "        text-align: right;\n",
       "    }\n",
       "</style>\n",
       "<table border=\"1\" class=\"dataframe\">\n",
       "  <thead>\n",
       "    <tr style=\"text-align: right;\">\n",
       "      <th></th>\n",
       "      <th>ide</th>\n",
       "      <th>y</th>\n",
       "      <th>br</th>\n",
       "      <th>pc_pob</th>\n",
       "      <th>pc_y</th>\n",
       "      <th>lift</th>\n",
       "    </tr>\n",
       "    <tr>\n",
       "      <th>pr_cut</th>\n",
       "      <th></th>\n",
       "      <th></th>\n",
       "      <th></th>\n",
       "      <th></th>\n",
       "      <th></th>\n",
       "      <th></th>\n",
       "    </tr>\n",
       "  </thead>\n",
       "  <tbody>\n",
       "    <tr>\n",
       "      <th>(-0.001, 0.298]</th>\n",
       "      <td>1000</td>\n",
       "      <td>210</td>\n",
       "      <td>0.210</td>\n",
       "      <td>0.10</td>\n",
       "      <td>0.03</td>\n",
       "      <td>0.3</td>\n",
       "    </tr>\n",
       "    <tr>\n",
       "      <th>(0.298, 0.409]</th>\n",
       "      <td>1000</td>\n",
       "      <td>356</td>\n",
       "      <td>0.356</td>\n",
       "      <td>0.10</td>\n",
       "      <td>0.06</td>\n",
       "      <td>0.6</td>\n",
       "    </tr>\n",
       "    <tr>\n",
       "      <th>(0.409, 0.501]</th>\n",
       "      <td>1000</td>\n",
       "      <td>458</td>\n",
       "      <td>0.458</td>\n",
       "      <td>0.10</td>\n",
       "      <td>0.07</td>\n",
       "      <td>0.7</td>\n",
       "    </tr>\n",
       "    <tr>\n",
       "      <th>(0.501, 0.586]</th>\n",
       "      <td>1000</td>\n",
       "      <td>541</td>\n",
       "      <td>0.541</td>\n",
       "      <td>0.10</td>\n",
       "      <td>0.09</td>\n",
       "      <td>0.9</td>\n",
       "    </tr>\n",
       "    <tr>\n",
       "      <th>(0.586, 0.659]</th>\n",
       "      <td>1000</td>\n",
       "      <td>608</td>\n",
       "      <td>0.608</td>\n",
       "      <td>0.10</td>\n",
       "      <td>0.10</td>\n",
       "      <td>1.0</td>\n",
       "    </tr>\n",
       "    <tr>\n",
       "      <th>(0.659, 0.72]</th>\n",
       "      <td>1000</td>\n",
       "      <td>704</td>\n",
       "      <td>0.704</td>\n",
       "      <td>0.10</td>\n",
       "      <td>0.11</td>\n",
       "      <td>1.1</td>\n",
       "    </tr>\n",
       "    <tr>\n",
       "      <th>(0.72, 0.776]</th>\n",
       "      <td>1000</td>\n",
       "      <td>727</td>\n",
       "      <td>0.727</td>\n",
       "      <td>0.10</td>\n",
       "      <td>0.12</td>\n",
       "      <td>1.2</td>\n",
       "    </tr>\n",
       "    <tr>\n",
       "      <th>(0.776, 0.83]</th>\n",
       "      <td>1000</td>\n",
       "      <td>800</td>\n",
       "      <td>0.800</td>\n",
       "      <td>0.10</td>\n",
       "      <td>0.13</td>\n",
       "      <td>1.3</td>\n",
       "    </tr>\n",
       "    <tr>\n",
       "      <th>(0.83, 0.883]</th>\n",
       "      <td>1000</td>\n",
       "      <td>850</td>\n",
       "      <td>0.850</td>\n",
       "      <td>0.10</td>\n",
       "      <td>0.14</td>\n",
       "      <td>1.4</td>\n",
       "    </tr>\n",
       "    <tr>\n",
       "      <th>(0.883, 0.919]</th>\n",
       "      <td>600</td>\n",
       "      <td>544</td>\n",
       "      <td>0.907</td>\n",
       "      <td>0.06</td>\n",
       "      <td>0.09</td>\n",
       "      <td>1.5</td>\n",
       "    </tr>\n",
       "    <tr>\n",
       "      <th>(0.919, 0.942]</th>\n",
       "      <td>300</td>\n",
       "      <td>281</td>\n",
       "      <td>0.937</td>\n",
       "      <td>0.03</td>\n",
       "      <td>0.05</td>\n",
       "      <td>1.5</td>\n",
       "    </tr>\n",
       "    <tr>\n",
       "      <th>(0.942, 1.0]</th>\n",
       "      <td>100</td>\n",
       "      <td>97</td>\n",
       "      <td>0.970</td>\n",
       "      <td>0.01</td>\n",
       "      <td>0.02</td>\n",
       "      <td>1.6</td>\n",
       "    </tr>\n",
       "  </tbody>\n",
       "</table>\n",
       "</div>"
      ],
      "text/plain": [
       "                  ide    y     br  pc_pob  pc_y  lift\n",
       "pr_cut                                               \n",
       "(-0.001, 0.298]  1000  210  0.210    0.10  0.03   0.3\n",
       "(0.298, 0.409]   1000  356  0.356    0.10  0.06   0.6\n",
       "(0.409, 0.501]   1000  458  0.458    0.10  0.07   0.7\n",
       "(0.501, 0.586]   1000  541  0.541    0.10  0.09   0.9\n",
       "(0.586, 0.659]   1000  608  0.608    0.10  0.10   1.0\n",
       "(0.659, 0.72]    1000  704  0.704    0.10  0.11   1.1\n",
       "(0.72, 0.776]    1000  727  0.727    0.10  0.12   1.2\n",
       "(0.776, 0.83]    1000  800  0.800    0.10  0.13   1.3\n",
       "(0.83, 0.883]    1000  850  0.850    0.10  0.14   1.4\n",
       "(0.883, 0.919]    600  544  0.907    0.06  0.09   1.5\n",
       "(0.919, 0.942]    300  281  0.937    0.03  0.05   1.5\n",
       "(0.942, 1.0]      100   97  0.970    0.01  0.02   1.6"
      ]
     },
     "execution_count": 6,
     "metadata": {},
     "output_type": "execute_result"
    }
   ],
   "source": [
    "p=pre.Predictor(df, 'ide', 'pr', 'y', 'date')\n",
    "p.performance_table(q_group=[100,300])"
   ]
  },
  {
   "cell_type": "code",
   "execution_count": null,
   "metadata": {},
   "outputs": [],
   "source": [
    "p.graph_ks()"
   ]
  },
  {
   "cell_type": "code",
   "execution_count": null,
   "metadata": {},
   "outputs": [],
   "source": [
    "p.stability()\n",
    "p.graph_stability()"
   ]
  },
  {
   "cell_type": "code",
   "execution_count": null,
   "metadata": {},
   "outputs": [],
   "source": [
    "p.metricas_performance()"
   ]
  },
  {
   "cell_type": "markdown",
   "metadata": {},
   "source": [
    "## Create example data events\n"
   ]
  },
  {
   "cell_type": "code",
   "execution_count": null,
   "metadata": {},
   "outputs": [],
   "source": [
    "\n",
    "def f_to_dt(fecha_hora_min):\n",
    "    return pd.to_datetime(fecha_hora_min, format='%Y-%m-%d %H:%M')\n",
    "df= pd.DataFrame()\n",
    "df['ide_instalacion']=[11,11,11,11,11,11,22,22,22,22]\n",
    "cli=['2019-08-01 15:30', '2019-08-01 15:40', '2019-08-01 16:30', '2019-08-01 16:31','2019-08-01 20:30','2019-08-01 21:00']\n",
    "cli2=[ '2019-08-01 15:00', '2019-08-02 10:30', '2019-08-02 15:30', '2019-08-03 15:30']\n",
    "cli.extend(cli2)\n",
    "df['fecha']= list(map(f_to_dt, cli))\n",
    "df['evento']=['A', np.nan, 'D', 'A', 'D', np.nan,'A', 'D', 'D',  'A']\n",
    "display(df)"
   ]
  },
  {
   "cell_type": "markdown",
   "metadata": {},
   "source": [
    "## Apply tools\n",
    "    "
   ]
  },
  {
   "cell_type": "code",
   "execution_count": null,
   "metadata": {
    "scrolled": false
   },
   "outputs": [],
   "source": [
    "\n",
    "e = pre.Events(df, grouper='ide_instalacion',  datetime_name='fecha', event_name='evento', every_x_minutes=15)\n",
    "\n",
    "ide=22\n",
    "display(e.df[e.df.ide_instalacion==ide][:5])\n",
    "display(e.df[e.df.ide_instalacion==ide][-5:])\n",
    "a = e.plot_ide(ide_value=ide, event_value_pos='A', figsize=(16,4))\n"
   ]
  },
  {
   "cell_type": "code",
   "execution_count": null,
   "metadata": {},
   "outputs": [],
   "source": [
    "ide=11\n",
    "display(e.df[e.df.ide_instalacion==ide][:5])\n",
    "display(e.df[e.df.ide_instalacion==ide][-5:])\n",
    "a = e.plot_ide(ide_value=ide, event_value_pos='A', figsize=(16,4))\n"
   ]
  },
  {
   "cell_type": "code",
   "execution_count": null,
   "metadata": {},
   "outputs": [],
   "source": [
    "#jupyter nbconvert README.ipynb --to markdown"
   ]
  }
 ],
 "metadata": {
  "kernelspec": {
   "display_name": "Python 3",
   "language": "python",
   "name": "python3"
  },
  "language_info": {
   "codemirror_mode": {
    "name": "ipython",
    "version": 3
   },
   "file_extension": ".py",
   "mimetype": "text/x-python",
   "name": "python",
   "nbconvert_exporter": "python",
   "pygments_lexer": "ipython3",
   "version": "3.8.2"
  }
 },
 "nbformat": 4,
 "nbformat_minor": 4
}
